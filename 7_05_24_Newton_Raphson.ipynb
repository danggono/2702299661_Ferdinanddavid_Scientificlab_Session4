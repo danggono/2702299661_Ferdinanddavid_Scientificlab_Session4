{
  "nbformat": 4,
  "nbformat_minor": 0,
  "metadata": {
    "colab": {
      "provenance": [],
      "authorship_tag": "ABX9TyMsx8Is/t3JfNF6vxuuoZDk",
      "include_colab_link": true
    },
    "kernelspec": {
      "name": "python3",
      "display_name": "Python 3"
    },
    "language_info": {
      "name": "python"
    }
  },
  "cells": [
    {
      "cell_type": "markdown",
      "metadata": {
        "id": "view-in-github",
        "colab_type": "text"
      },
      "source": [
        "<a href=\"https://colab.research.google.com/github/danggono/2702299661_Ferdinanddavid_Scientificlab_Session4/blob/main/7_05_24_Newton_Raphson.ipynb\" target=\"_parent\"><img src=\"https://colab.research.google.com/assets/colab-badge.svg\" alt=\"Open In Colab\"/></a>"
      ]
    },
    {
      "cell_type": "markdown",
      "source": [
        "2702299661-Ferdinand david-newton raphson"
      ],
      "metadata": {
        "id": "BRoT2d-Irkem"
      }
    },
    {
      "cell_type": "code",
      "execution_count": 3,
      "metadata": {
        "id": "L_g6mLwytBYf",
        "colab": {
          "base_uri": "https://localhost:8080/"
        },
        "outputId": "776bcc3e-bcbc-464f-a1eb-e789b78be6c6"
      },
      "outputs": [
        {
          "output_type": "stream",
          "name": "stdout",
          "text": [
            "newton_raphson = 1.4142857142857144\n",
            "sqrt(2) = 1.4142135623730951\n"
          ]
        }
      ],
      "source": [
        "import numpy as np\n",
        "\n",
        "f = lambda x : x**2 - 2\n",
        "f_prime = lambda x: 2*x\n",
        "newton_raphson = 1.4 - (f(1.4))/(f_prime(1.4))\n",
        "\n",
        "print(\"newton_raphson =\", newton_raphson)\n",
        "print(\"sqrt(2) =\", np.sqrt(2))"
      ]
    },
    {
      "cell_type": "markdown",
      "source": [],
      "metadata": {
        "id": "OpG6EwKliZmS"
      }
    },
    {
      "cell_type": "code",
      "source": [
        "def my_newton (f, df, x0, tol):\n",
        "  #output is an estimation of the root of f\n",
        "  # using the New Raphson method\n",
        "  # recursive implementation\n",
        "  if abs(f(x0)) < tol:\n",
        "    return x0\n",
        "  else:\n",
        "    return my_newton(f, df, x0 - f(x0)/df(x0), tol)"
      ],
      "metadata": {
        "id": "GRvZh9eiht8t"
      },
      "execution_count": 21,
      "outputs": []
    },
    {
      "cell_type": "code",
      "source": [
        "estimate = my_newton(f, f_prime, 1.5, 1e-6)\n",
        "print(\"estimate = \", estimate)\n",
        "print(\"sqrt(2) =\", np.sqrt(2))"
      ],
      "metadata": {
        "id": "aSMAwiO9hv4f"
      },
      "execution_count": null,
      "outputs": []
    },
    {
      "cell_type": "markdown",
      "source": [
        "Quiz Newton Raphson 1"
      ],
      "metadata": {
        "id": "_0DMU0hqh-hk"
      }
    },
    {
      "cell_type": "code",
      "source": [
        "f(x) = x**3 - 3*x**2 + 2*X\n",
        "    x0 = 1.5\n",
        "    tol = 0.01"
      ],
      "metadata": {
        "id": "VwuCCb1qiACD"
      },
      "execution_count": null,
      "outputs": []
    },
    {
      "cell_type": "code",
      "source": [
        "f = lambda x: x**3 - 3*x**2 + 2*x\n",
        "f_prime = lambda x: 3*x**2 - 6*x + 2\n",
        "\n",
        "newton_raphson = 1.5 - (f(1.5)) / (f_prime(1.5))\n",
        "\n",
        "print(\"newton_raphson =\", newton_raphson)\n",
        "print(\"sqrt(2) =\", np.sqrt(2))"
      ],
      "metadata": {
        "colab": {
          "base_uri": "https://localhost:8080/"
        },
        "id": "bkCUDVDck6sK",
        "outputId": "6914e42c-6839-4659-f0b8-8f5e35c340a8"
      },
      "execution_count": 22,
      "outputs": [
        {
          "output_type": "stream",
          "name": "stdout",
          "text": [
            "newton_raphson = 0.0\n",
            "sqrt(2) = 1.4142135623730951\n"
          ]
        }
      ]
    },
    {
      "cell_type": "markdown",
      "source": [
        "Quiz Newton Raphson 2"
      ],
      "metadata": {
        "id": "_zQoVlk1ia_6"
      }
    },
    {
      "cell_type": "code",
      "source": [
        "f(x) = e^x -2x\n",
        "x0 = 1\n",
        "tol = 0.001"
      ],
      "metadata": {
        "id": "0oqClq52ianJ"
      },
      "execution_count": null,
      "outputs": []
    },
    {
      "cell_type": "code",
      "source": [
        "f = lambda x: x**3 - 3*x**2 + 2*x\n",
        "f_prime = lambda x :np.exp(x)-2\n",
        "\n",
        "newton_raphson = 1 - (f(1)) / (f_prime(1))\n",
        "\n",
        "print(\"newton_raphson =\", newton_raphson)\n",
        "print(\"sqrt(2) =\", np.sqrt(2))"
      ],
      "metadata": {
        "colab": {
          "base_uri": "https://localhost:8080/"
        },
        "id": "SO3RmHzxoQuV",
        "outputId": "3f07b990-0f3d-4911-e14c-282cc7e5abaa"
      },
      "execution_count": 23,
      "outputs": [
        {
          "output_type": "stream",
          "name": "stdout",
          "text": [
            "newton_raphson = 1.0\n",
            "sqrt(2) = 1.4142135623730951\n"
          ]
        }
      ]
    }
  ]
}